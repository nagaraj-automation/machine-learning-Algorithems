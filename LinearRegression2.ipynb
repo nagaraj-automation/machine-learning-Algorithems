{
 "cells": [
  {
   "cell_type": "code",
   "execution_count": null,
   "id": "bd4c778e-7612-4b82-aaa4-9300ab626845",
   "metadata": {},
   "outputs": [],
   "source": [
    "import pandas as pd\n"
   ]
  },
  {
   "cell_type": "code",
   "execution_count": null,
   "id": "975c6a4e-8864-4408-85bb-c95947311562",
   "metadata": {},
   "outputs": [],
   "source": []
  }
 ],
 "metadata": {
  "kernelspec": {
   "display_name": "Python 3 (ipykernel)",
   "language": "python",
   "name": "python3"
  },
  "language_info": {
   "name": ""
  }
 },
 "nbformat": 4,
 "nbformat_minor": 5
}
